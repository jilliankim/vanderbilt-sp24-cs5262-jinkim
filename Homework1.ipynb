{
  "nbformat": 4,
  "nbformat_minor": 0,
  "metadata": {
    "colab": {
      "provenance": [],
      "authorship_tag": "ABX9TyNGot82DuVHBwg2a0czt/16",
      "include_colab_link": true
    },
    "kernelspec": {
      "name": "python3",
      "display_name": "Python 3"
    },
    "language_info": {
      "name": "python"
    }
  },
  "cells": [
    {
      "cell_type": "markdown",
      "metadata": {
        "id": "view-in-github",
        "colab_type": "text"
      },
      "source": [
        "<a href=\"https://colab.research.google.com/github/jilliankim/vanderbilt-sp24-cs5262-jinkim/blob/main/Homework1.ipynb\" target=\"_parent\"><img src=\"https://colab.research.google.com/assets/colab-badge.svg\" alt=\"Open In Colab\"/></a>"
      ]
    },
    {
      "cell_type": "markdown",
      "source": [
        "- Background\n",
        "- Project Description\n",
        "- Performance Metric"
      ],
      "metadata": {
        "id": "sKXNqpYWZpH_"
      }
    },
    {
      "cell_type": "code",
      "source": [],
      "metadata": {
        "id": "BYz1ReyHaB6Q"
      },
      "execution_count": null,
      "outputs": []
    }
  ]
}
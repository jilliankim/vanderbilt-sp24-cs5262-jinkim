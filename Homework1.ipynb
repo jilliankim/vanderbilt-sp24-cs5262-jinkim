{
  "nbformat": 4,
  "nbformat_minor": 0,
  "metadata": {
    "colab": {
      "provenance": [],
      "authorship_tag": "ABX9TyMN3mAYtY6MzZQo8n7/bJV7",
      "include_colab_link": true
    },
    "kernelspec": {
      "name": "python3",
      "display_name": "Python 3"
    },
    "language_info": {
      "name": "python"
    }
  },
  "cells": [
    {
      "cell_type": "markdown",
      "metadata": {
        "id": "view-in-github",
        "colab_type": "text"
      },
      "source": [
        "<a href=\"https://colab.research.google.com/github/jilliankim/vanderbilt-sp24-cs5262-jinkim/blob/main/Homework1.ipynb\" target=\"_parent\"><img src=\"https://colab.research.google.com/assets/colab-badge.svg\" alt=\"Open In Colab\"/></a>"
      ]
    },
    {
      "cell_type": "markdown",
      "source": [
        "- Background\n",
        "\n",
        "The project goal is to find the segments of the consumers to create an effective marketing strategies for different segments of consumers by studying the dataset here https://www.kaggle.com/datasets/zeesolver/consumer-behavior-and-shopping-habits-dataset/data.\n",
        "\n",
        "- Project Description\n",
        "\n",
        "The dataset encompasses a diverse range of variables, including demographic information, purchase history, product preferences, shopping frequency, and online/offline shopping behavior. Studying this dataset will yield different segments of users, like frequent online shopper on fashion items, or infrequent offline shopper on sports items, etc and provide potential marketing strategies for lucrative commercial business. We may focus only on online shopping for the starter, and may expand into offline consumers, as the advertisement targeting is much easier on online shopping.\n",
        "\n",
        "- Performance Metric\n",
        "\n",
        "1. Seasonal expenditure based on customer segmantation\n",
        "2. Purchases on different categories\n",
        "3. Purchases based on gender\n",
        "4. Customer distribution by location\n",
        "5. ..and other metrics\n"
      ],
      "metadata": {
        "id": "sKXNqpYWZpH_"
      }
    },
    {
      "cell_type": "code",
      "source": [],
      "metadata": {
        "id": "BYz1ReyHaB6Q"
      },
      "execution_count": null,
      "outputs": []
    }
  ]
}